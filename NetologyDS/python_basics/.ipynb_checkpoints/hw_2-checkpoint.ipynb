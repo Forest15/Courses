{
 "cells": [
  {
   "cell_type": "markdown",
   "id": "2efabd85-6a77-4585-8d11-45e44cb16c1c",
   "metadata": {},
   "source": [
    "# Домашнее задание №2\n",
    "\n",
    "(выполнил Черевко В.И.)"
   ]
  },
  {
   "cell_type": "markdown",
   "id": "3081d27e-a2c1-46d0-8608-6d994db6f3c6",
   "metadata": {},
   "source": [
    "## Задание 1"
   ]
  },
  {
   "cell_type": "code",
   "execution_count": 35,
   "id": "5b1e31d2-e9cb-40bc-a389-93a7bc2efe6f",
   "metadata": {},
   "outputs": [
    {
     "name": "stdin",
     "output_type": "stream",
     "text": [
      "Введите текст: 121\n"
     ]
    },
    {
     "name": "stdout",
     "output_type": "stream",
     "text": [
      "2\n"
     ]
    }
   ],
   "source": [
    "word = input('Введите текст:')\n",
    "\n",
    "len_var = len(word)\n",
    "\n",
    "if len_var % 2 == 0:\n",
    "    half_var = int(len_var / 2)\n",
    "    print(word[(half_var - 1) : (half_var + 1)])\n",
    "else:\n",
    "    print(word[len_var // 2])"
   ]
  },
  {
   "cell_type": "markdown",
   "id": "1236f48c-38c8-40d5-b4ea-b9869f7e5b6f",
   "metadata": {},
   "source": [
    "## Задание 2"
   ]
  },
  {
   "cell_type": "code",
   "execution_count": 44,
   "id": "5377296a-a181-4211-8419-b9e1be460957",
   "metadata": {},
   "outputs": [
    {
     "name": "stdin",
     "output_type": "stream",
     "text": [
      "Введите натуральное число или ноль: 1\n",
      "Введите натуральное число или ноль: 4\n",
      "Введите натуральное число или ноль: 6\n",
      "Введите натуральное число или ноль: 0\n"
     ]
    },
    {
     "name": "stdout",
     "output_type": "stream",
     "text": [
      "Результат:11\n"
     ]
    }
   ],
   "source": [
    "cnt_var = 0\n",
    "\n",
    "while True:\n",
    "    \n",
    "    inp_var = input(\"Введите натуральное число или ноль:\")\n",
    "    \n",
    "    if not inp_var.isdigit():\n",
    "        continue\n",
    "    \n",
    "    int_var = int(inp_var)\n",
    "    \n",
    "    if int_var != 0:\n",
    "        cnt_var += int_var\n",
    "    else:\n",
    "        print(f'Результат:{cnt_var}')\n",
    "        break"
   ]
  },
  {
   "cell_type": "markdown",
   "id": "65ffa6e7-682b-44fd-beec-684c8a353ff6",
   "metadata": {},
   "source": [
    "## Задание 3"
   ]
  },
  {
   "cell_type": "code",
   "execution_count": 54,
   "id": "0b776108-0dc0-4d64-a417-79e3e3499a52",
   "metadata": {},
   "outputs": [
    {
     "name": "stdout",
     "output_type": "stream",
     "text": [
      "Alex и Emma\n",
      "Arthur и Kate\n",
      "John и Kira\n",
      "Peter и Liza\n",
      "Richard и Trisha\n"
     ]
    }
   ],
   "source": [
    "#boys = ['Peter', 'Alex', 'John', 'Arthur', 'Richard', 'Michael']\n",
    "boys = ['Peter', 'Alex', 'John', 'Arthur', 'Richard']\n",
    "girls = ['Kate', 'Liza', 'Kira', 'Emma', 'Trisha']\n",
    "\n",
    "if len(boys) != len(girls):\n",
    "    print('Внимание, кто-то может остаться без пары!')\n",
    "else:\n",
    "    boys.sort()\n",
    "    girls.sort()\n",
    "\n",
    "    pairs = zip(boys, girls)\n",
    "\n",
    "    for boy, girl in pairs:\n",
    "        print(f\"{boy} и {girl}\")"
   ]
  },
  {
   "cell_type": "markdown",
   "id": "c74ec78f-90ef-4f6d-96e1-36270a583840",
   "metadata": {},
   "source": [
    "## Задание 4"
   ]
  },
  {
   "cell_type": "code",
   "execution_count": 59,
   "id": "6029c092-f4da-4f65-a13e-f4a3ab13b223",
   "metadata": {},
   "outputs": [
    {
     "name": "stdout",
     "output_type": "stream",
     "text": [
      "Средняя температура в странах:\n",
      "Таиланд - 23.9 C\n",
      "Германия - 13.8 C\n",
      "Россия - 3.7 C\n",
      "Польша - 12.0 C\n"
     ]
    }
   ],
   "source": [
    "countries_temperature = [\n",
    "['Таиланд', [75.2, 77, 78.8, 73.4, 68, 75.2, 77]],\n",
    "['Германия', [57.2, 55.4, 59, 59, 53.6]],\n",
    "['Россия', [35.6, 37.4, 39.2, 41, 42.8, 39.2, 35.6]],\n",
    "['Польша', [50, 50, 53.6, 57.2, 55.4, 55.4]]\n",
    "]\n",
    "\n",
    "print(\"Средняя температура в странах:\")\n",
    "for country, temp_row in countries_temperature:\n",
    "    print(f\"{country} -{(((sum(temp_row)/len(temp_row)) - 32)/1.8): .1f} C\")"
   ]
  },
  {
   "cell_type": "markdown",
   "id": "06741260-90d5-4970-ad1c-06dee3fddfb9",
   "metadata": {},
   "source": [
    "## Задание 5"
   ]
  },
  {
   "cell_type": "code",
   "execution_count": null,
   "id": "458f6045-9af3-4082-835d-be3c5c05b128",
   "metadata": {},
   "outputs": [],
   "source": []
  },
  {
   "cell_type": "markdown",
   "id": "88eb279d-3b69-4457-acc8-9b9ed7d99bee",
   "metadata": {},
   "source": [
    "## Задание 6"
   ]
  },
  {
   "cell_type": "code",
   "execution_count": null,
   "id": "b664b91b-3330-4a03-a857-9d7fdadd4ff1",
   "metadata": {},
   "outputs": [],
   "source": []
  }
 ],
 "metadata": {
  "kernelspec": {
   "display_name": "Python 3 (ipykernel)",
   "language": "python",
   "name": "python3"
  },
  "language_info": {
   "codemirror_mode": {
    "name": "ipython",
    "version": 3
   },
   "file_extension": ".py",
   "mimetype": "text/x-python",
   "name": "python",
   "nbconvert_exporter": "python",
   "pygments_lexer": "ipython3",
   "version": "3.11.9"
  }
 },
 "nbformat": 4,
 "nbformat_minor": 5
}
