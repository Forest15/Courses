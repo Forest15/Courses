{
 "cells": [
  {
   "cell_type": "markdown",
   "id": "c002f9d1-7e04-483b-b9dd-7eea2a286f9a",
   "metadata": {},
   "source": [
    "# Домашнее задание №1\n",
    "(Выполнил Черевко В.И.)"
   ]
  },
  {
   "cell_type": "markdown",
   "id": "76a8d3fb-3092-4e7c-be57-d8b20ef9ce36",
   "metadata": {},
   "source": [
    "## Задание 1"
   ]
  },
  {
   "cell_type": "code",
   "execution_count": 2,
   "id": "37b65dce-95e4-4e5a-b441-52a0a288ac59",
   "metadata": {},
   "outputs": [
    {
     "name": "stdin",
     "output_type": "stream",
     "text": [
      "Введите фразу 1: дло\n",
      "Введите фразу 2: л\n"
     ]
    },
    {
     "name": "stdout",
     "output_type": "stream",
     "text": [
      "Фраза 1 длиннее фразы 2\n"
     ]
    }
   ],
   "source": [
    "phrase1 = input('Введите фразу 1:')\n",
    "phrase2 = input('Введите фразу 2:')\n",
    "\n",
    "if len(phrase1) > len(phrase2):\n",
    "    print(\"Фраза 1 длиннее фразы 2\")\n",
    "elif len(phrase1) < len(phrase2):\n",
    "    print(\"Фраза 2 длиннее фразы 1\")\n",
    "else:\n",
    "    print(\"Фразы равной длины\")"
   ]
  },
  {
   "cell_type": "markdown",
   "id": "4ffdccbb-0561-4d62-ad16-f7a4aae12ef7",
   "metadata": {},
   "source": [
    "## Задание 2"
   ]
  },
  {
   "cell_type": "code",
   "execution_count": 80,
   "id": "2b7fa442-990e-4ce9-9c49-befe0d7cfc68",
   "metadata": {},
   "outputs": [
    {
     "name": "stdin",
     "output_type": "stream",
     "text": [
      "Введите год: 1999\n"
     ]
    },
    {
     "name": "stdout",
     "output_type": "stream",
     "text": [
      "Обычный год\n"
     ]
    }
   ],
   "source": [
    "year_var = input(\"Введите год:\")\n",
    "if year_var.isdigit():\n",
    "    if int(year_var)%4 == 0:\n",
    "        print(\"Год високосный\")\n",
    "    else:\n",
    "        print(\"Обычный год\")\n",
    "else:\n",
    "    print(\"Вы ввели недопустимое значение года\")"
   ]
  },
  {
   "cell_type": "markdown",
   "id": "608b53a6-8ccf-4c45-865f-644c5c5f7b1c",
   "metadata": {},
   "source": [
    "## Задание 3"
   ]
  },
  {
   "cell_type": "code",
   "execution_count": 74,
   "id": "da905919-2901-4bee-b860-f96f051b81c8",
   "metadata": {},
   "outputs": [
    {
     "name": "stdin",
     "output_type": "stream",
     "text": [
      "Введите день: 29\n",
      "Введите месяц: февраль\n"
     ]
    },
    {
     "name": "stdout",
     "output_type": "stream",
     "text": [
      "Ваш знак зодиака: Рыбы\n"
     ]
    }
   ],
   "source": [
    "day_var = int(input(\"Введите день:\"))\n",
    "month_var = input(\"Введите месяц:\").lower()\n",
    "\n",
    "if ((21 <= day_var <= 31) and (month_var == 'март')) or ((1 <= day_var <= 19) and (month_var == 'апрель')):\n",
    "    print(\"Ваш знак зодиака: Овен\")\n",
    "elif ((20 <= day_var <= 30) and (month_var == 'апрель')) or ((1 <= day_var <= 20) and (month_var == 'май')):\n",
    "    print(\"Ваш знак зодиака: Телец\")\n",
    "elif ((21 <= day_var <= 31) and (month_var == 'май')) or ((1 <= day_var <= 20) and (month_var == 'июнь')):\n",
    "    print(\"Ваш знак зодиака: Близнецы\")\n",
    "elif ((21 <= day_var <= 30) and (month_var == 'июнь')) or ((1 <= day_var <= 22) and (month_var == 'июль')):\n",
    "    print(\"Ваш знак зодиака: Рак\")\n",
    "elif ((23 <= day_var <= 31) and (month_var == 'июль')) or ((1 <= day_var <= 22) and (month_var == 'август')):\n",
    "    print(\"Ваш знак зодиака: Лев\")\n",
    "elif ((23 <= day_var <= 31) and (month_var == 'август')) or ((1 <= day_var <= 22) and (month_var == 'сентябрь')):\n",
    "    print(\"Ваш знак зодиака: Дева\")\n",
    "elif ((23 <= day_var <= 30) and (month_var == 'сентябрь')) or ((1 <= day_var <= 22) and (month_var == 'октябрь')):\n",
    "    print(\"Ваш знак зодиака: Весы\")\n",
    "elif ((23 <= day_var <= 31) and (month_var == 'октябрь')) or ((1 <= day_var <= 21) and (month_var == 'ноябрь')):\n",
    "    print(\"Ваш знак зодиака: Скорпион\")\n",
    "elif ((22 <= day_var <= 30) and (month_var == 'ноябрь')) or ((1 <= day_var <= 21) and (month_var == 'декабрь')):\n",
    "    print(\"Ваш знак зодиака: Стрелец\")\n",
    "elif ((22 <= day_var <= 31) and (month_var == 'декабрь')) or ((1 <= day_var <= 19) and (month_var == 'январь')):\n",
    "    print(\"Ваш знак зодиака: Козерог\")\n",
    "elif ((20 <= day_var <= 31) and (month_var == 'январь')) or ((1 <= day_var <= 18) and (month_var == 'февраль')):\n",
    "    print(\"Ваш знак зодиака: Водолей\")\n",
    "elif ((19 <= day_var <= 29) and (month_var == 'февраль')) or ((1 <= day_var <= 20) and (month_var == 'март')):\n",
    "    print(\"Ваш знак зодиака: Рыбы\")\n",
    "else:\n",
    "    print(\"Вы ввели неправильный день или месяц\")\n"
   ]
  },
  {
   "cell_type": "markdown",
   "id": "90afb008-16a7-4fca-a956-88ba3dddac33",
   "metadata": {},
   "source": [
    "## Задание 4"
   ]
  },
  {
   "cell_type": "code",
   "execution_count": 93,
   "id": "bff23f66-d0a2-47af-af17-07b7798010a3",
   "metadata": {},
   "outputs": [
    {
     "name": "stdin",
     "output_type": "stream",
     "text": [
      "Введите ширину коробки (целое число): 24\n",
      "Введите длину коробки (целое число): 15\n",
      "Введите высоту коробки (целое число): 2000\n"
     ]
    },
    {
     "name": "stdout",
     "output_type": "stream",
     "text": [
      "Упаковка для лыж\n"
     ]
    }
   ],
   "source": [
    "width = input(\"Введите ширину коробки (целое число):\")\n",
    "length = input(\"Введите длину коробки (целое число):\")\n",
    "height = input(\"Введите высоту коробки (целое число):\")\n",
    "\n",
    "if not (width.isdigit() and length.isdigit() and height.isdigit()):\n",
    "    print(\"Введены неправильные исходные данные\")\n",
    "elif (int(width) <= 15 and int(length) <= 15 and int(height) <= 15):\n",
    "    print(\"Коробка №1\")\n",
    "elif ((200 < int(width)) or (200 < int(length)) or (200 < int(height))):\n",
    "    print(\"Упаковка для лыж\")\n",
    "elif ((15 < int(width) < 50) or (15 < int(length) < 50) or (15 < int(height) < 50)):\n",
    "    print(\"Коробка №2\")\n",
    "else:\n",
    "    print(\"Коробка №3\")"
   ]
  },
  {
   "cell_type": "markdown",
   "id": "67216317-7661-4e2d-bbd9-b219ab46c205",
   "metadata": {},
   "source": [
    "## Задание 5"
   ]
  },
  {
   "cell_type": "code",
   "execution_count": 101,
   "id": "e85b9785-d63e-49ee-bc3a-4c9741d4f024",
   "metadata": {},
   "outputs": [
    {
     "name": "stdin",
     "output_type": "stream",
     "text": [
      "Введите натуральное шестизначное число 123231\n"
     ]
    },
    {
     "name": "stdout",
     "output_type": "stream",
     "text": [
      "Счастливый билет\n"
     ]
    }
   ],
   "source": [
    "number = input(\"Введите натуральное шестизначное число\")\n",
    "if (not number.isdigit()) or (not (100000 <= int(number) <= 999999)):\n",
    "    print(\"Введено неправильное число\")\n",
    "elif (int((number[0])) + int((number[1])) + int((number[2]))) == (int((number[3])) + int((number[4])) + int((number[5]))):\n",
    "    print(\"Счастливый билет\")\n",
    "else:\n",
    "    print(\"Несчастливый билет\")"
   ]
  },
  {
   "cell_type": "markdown",
   "id": "a1db7a10-202b-414f-a97e-6cdb2fa27a81",
   "metadata": {},
   "source": [
    "## Задание 6"
   ]
  }
 ],
 "metadata": {
  "kernelspec": {
   "display_name": "Python 3 (ipykernel)",
   "language": "python",
   "name": "python3"
  },
  "language_info": {
   "codemirror_mode": {
    "name": "ipython",
    "version": 3
   },
   "file_extension": ".py",
   "mimetype": "text/x-python",
   "name": "python",
   "nbconvert_exporter": "python",
   "pygments_lexer": "ipython3",
   "version": "3.11.9"
  }
 },
 "nbformat": 4,
 "nbformat_minor": 5
}
