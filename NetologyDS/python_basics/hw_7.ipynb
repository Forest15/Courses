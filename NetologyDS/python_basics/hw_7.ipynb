{
 "cells": [
  {
   "cell_type": "markdown",
   "id": "98d2fa5e-0586-47c3-92f8-35d3d6d0f368",
   "metadata": {},
   "source": [
    "# Домашнее задание №7\n",
    "\n",
    "(выполнил Черевко В.И.)"
   ]
  },
  {
   "cell_type": "markdown",
   "id": "2a672994-1158-4920-9b41-6671c23c7c1c",
   "metadata": {},
   "source": [
    "## Задание 1"
   ]
  },
  {
   "cell_type": "code",
   "execution_count": 6,
   "id": "6620ebd3-6fe7-4486-843e-d53825668d59",
   "metadata": {},
   "outputs": [
    {
     "name": "stdout",
     "output_type": "stream",
     "text": [
      "СДР (специальные права заимствования)\n"
     ]
    }
   ],
   "source": [
    "import requests\n",
    "\n",
    "def get_max_value_name():\n",
    "    \"\"\"\n",
    "    Функция возвращает название (Name) самой дорогой валюты.\n",
    "    \"\"\"\n",
    "    valute = requests.get('https://www.cbr-xml-daily.ru/daily_json.js')\n",
    "    max_val = 0\n",
    "    max_name = ''\n",
    "    for v_key, v_value in valute.json()['Valute'].items():\n",
    "        #print(v_key, v_value)\n",
    "        v_val = v_value['Value']\n",
    "        v_name = v_value['Name']\n",
    "        if v_val >= max_val:\n",
    "            max_val = v_val\n",
    "            max_name = v_name\n",
    "    return max_name\n",
    "\n",
    "\n",
    "print(get_max_value_name())"
   ]
  },
  {
   "cell_type": "markdown",
   "id": "62f0c8af-dff5-42fb-b618-af8cfa69d660",
   "metadata": {},
   "source": [
    "## Задание 2"
   ]
  },
  {
   "cell_type": "code",
   "execution_count": 63,
   "id": "0357fb86-5115-4950-8437-b4f7e5f7459e",
   "metadata": {},
   "outputs": [],
   "source": [
    "'''\n",
    "Так и не понял, в задании требуется переделать старый класс или переопределить этот(\n",
    "В итоге, переделал старый.\n",
    "'''\n",
    "\n",
    "class Rate:\n",
    "    def __init__(self, format_ = 'value', diff_ = False):\n",
    "        self.format = format_\n",
    "        self.diff = diff_\n",
    "        self.eur_prev = 0\n",
    "        self.usd_prev = 0\n",
    "        self.brl_prev = 0\n",
    "    \n",
    "    def exchange_rates(self):\n",
    "        \"\"\"\n",
    "        Возвращает ответ сервиса с информацией о валютах в виде:\n",
    "        \n",
    "        {\n",
    "            'AMD': {\n",
    "                'CharCode': 'AMD',\n",
    "                'ID': 'R01060',\n",
    "                'Name': 'Армянских драмов',\n",
    "                'Nominal': 100,\n",
    "                'NumCode': '051',\n",
    "                'Previous': 14.103,\n",
    "                'Value': 14.0879\n",
    "                },\n",
    "            ...\n",
    "        }\n",
    "        \"\"\"\n",
    "        self.r = requests.get('https://www.cbr-xml-daily.ru/daily_json.js')\n",
    "        return self.r.json()['Valute']\n",
    "    \n",
    "    def make_format(self, currency):\n",
    "        \"\"\"\n",
    "        Возвращает информацию о валюте currency в двух вариантах:\n",
    "        - полная информация о валюте при self.format = 'full':\n",
    "        Rate('full').make_format('EUR')\n",
    "        {\n",
    "            'CharCode': 'EUR',\n",
    "            'ID': 'R01239',\n",
    "            'Name': 'Евро',\n",
    "            'Nominal': 1,\n",
    "            'NumCode': '978',\n",
    "            'Previous': 79.6765,\n",
    "            'Value': 79.4966\n",
    "        }\n",
    "        \n",
    "        Rate('value').make_format('EUR')\n",
    "        79.4966\n",
    "        \"\"\"\n",
    "        response = self.exchange_rates()\n",
    "        \n",
    "        if currency in response:\n",
    "            if self.format == 'full':\n",
    "                return response[currency]\n",
    "            \n",
    "            if self.format == 'value':\n",
    "                return response[currency]['Value']\n",
    "        \n",
    "        return 'Error'\n",
    "    \n",
    "    def eur(self):\n",
    "        \"\"\"Возвращает курс евро на сегодня в формате self.format или разницу с предыдущим значением\"\"\"\n",
    "        if self.format == 'full':\n",
    "            return self.make_format('EUR')\n",
    "        elif self.diff == True:\n",
    "            return self.make_format('EUR') - self.eur_prev\n",
    "        else:\n",
    "            self.eur_prev = self.make_format('EUR')\n",
    "            return self.eur_prev\n",
    "    \n",
    "    def usd(self):\n",
    "        \"\"\"Возвращает курс доллара на сегодня в формате self.format или разницу с предыдущим значением\"\"\"\n",
    "        if self.format == 'full':\n",
    "            return self.make_format('USD')\n",
    "        elif self.diff == True:\n",
    "            return self.make_format('USD') - self.usd_prev\n",
    "        else:\n",
    "            self.usd_prev = self.make_format('USD')\n",
    "            return self.usd_prev\n",
    "    \n",
    "    def brl(self):\n",
    "        \"\"\"Возвращает курс бразильского реала на сегодня в формате self.format или разницу с предыдущим значением\"\"\"\n",
    "        if self.format == 'full':\n",
    "            return self.make_format('BRL')\n",
    "        elif self.diff == True:\n",
    "            return self.make_format('BRL') - self.brl_prev\n",
    "        else:\n",
    "            self.brl_prev = self.make_format('BRL')\n",
    "            return self.brl_prev"
   ]
  },
  {
   "cell_type": "code",
   "execution_count": 58,
   "id": "206ff201-f8da-4189-a081-7f48e88b4009",
   "metadata": {},
   "outputs": [],
   "source": [
    "rate = Rate(format_ = 'value', diff_ = False)"
   ]
  },
  {
   "cell_type": "code",
   "execution_count": 61,
   "id": "91bfc2c4-b5a1-4923-afb4-6b9402ecb590",
   "metadata": {},
   "outputs": [
    {
     "name": "stdout",
     "output_type": "stream",
     "text": [
      "90.0068\n",
      "79.0028\n",
      "14.2209\n"
     ]
    }
   ],
   "source": [
    "# Получаем исходные значения\n",
    "rate.diff = False\n",
    "print(rate.eur())\n",
    "print(rate.usd())\n",
    "print(rate.brl())"
   ]
  },
  {
   "cell_type": "code",
   "execution_count": 62,
   "id": "102c5733-ebf6-4954-844d-6041bde44b34",
   "metadata": {},
   "outputs": [
    {
     "name": "stdout",
     "output_type": "stream",
     "text": [
      "0.0\n",
      "0.0\n",
      "0.0\n"
     ]
    }
   ],
   "source": [
    "# Получаем разницу значений\n",
    "rate.diff = True\n",
    "print(rate.eur())\n",
    "print(rate.usd())\n",
    "print(rate.brl())"
   ]
  },
  {
   "cell_type": "markdown",
   "id": "031e5dba-a103-4733-9651-691d52074dda",
   "metadata": {},
   "source": [
    "## Задание 3"
   ]
  },
  {
   "cell_type": "markdown",
   "id": "98b02456-bf0b-4783-a78d-7abbd61b1ef7",
   "metadata": {},
   "source": [
    "### Суперкласс из занятия"
   ]
  },
  {
   "cell_type": "code",
   "execution_count": 64,
   "id": "effcf22c-dd16-46a3-84a4-8417b2d3e1b4",
   "metadata": {},
   "outputs": [],
   "source": [
    "import requests\n",
    "\n",
    "class Employee:\n",
    "    def __init__(self, name, seniority):\n",
    "        self.name = name\n",
    "        self.seniority = seniority\n",
    "        \n",
    "        self.grade = 1\n",
    "    \n",
    "    def grade_up(self):\n",
    "        \"\"\"Повышает уровень сотрудника\"\"\"\n",
    "        self.grade += 1\n",
    "    \n",
    "    def publish_grade(self):\n",
    "        \"\"\"Публикация результатов аккредитации сотрудников\"\"\"\n",
    "        print(self.name, self.grade)\n",
    "    \n",
    "    def check_if_it_is_time_for_upgrade(self):\n",
    "        pass\n",
    "\n",
    "class Developer(Employee):\n",
    "    def __init__(self, name, seniority):\n",
    "        super().__init__(name, seniority)\n",
    "    \n",
    "    def check_if_it_is_time_for_upgrade(self):\n",
    "        # для каждой аккредитации увеличиваем счетчик на 1\n",
    "        # пока считаем, что все разработчики проходят аккредитацию\n",
    "        self.seniority += 1\n",
    "        \n",
    "        # условие повышения сотрудника из презентации\n",
    "        if self.seniority % 5 == 0:\n",
    "            self.grade_up()\n",
    "        \n",
    "        # публикация результатов\n",
    "        return self.publish_grade()"
   ]
  },
  {
   "cell_type": "code",
   "execution_count": 119,
   "id": "e9a27efe-c354-44b8-bfb5-7c1efc43d461",
   "metadata": {},
   "outputs": [],
   "source": [
    "class Designer(Employee):\n",
    "    def __init__(self, name, seniority, prem = 2):\n",
    "        # за каждую премию увеличиваем счётчик на 2 при создании объекта\n",
    "        self.seniority_prem = seniority + (prem * 2)\n",
    "        super().__init__(name, self.seniority_prem)\n",
    "    \n",
    "    def check_if_it_is_time_for_upgrade(self):\n",
    "        # для каждой аккредитации увеличиваем счетчик на 1\n",
    "        # пока считаем, что все дизайнеры проходят аккредитацию\n",
    "        self.seniority_prem += 1\n",
    "        \n",
    "        # условие повышения сотрудника из презентации\n",
    "        if self.seniority_prem % 7 == 0:\n",
    "            self.grade_up()\n",
    "        \n",
    "        # публикация результатов\n",
    "        return self.publish_grade()"
   ]
  },
  {
   "cell_type": "code",
   "execution_count": 120,
   "id": "fec09e77-46cc-4149-8219-cdc0f24f592a",
   "metadata": {},
   "outputs": [],
   "source": [
    "ds_vladimir = Designer('Владимир', 3)"
   ]
  },
  {
   "cell_type": "code",
   "execution_count": 121,
   "id": "6e05bbef-48ba-4e55-9e3d-1a23778c3230",
   "metadata": {},
   "outputs": [
    {
     "name": "stdout",
     "output_type": "stream",
     "text": [
      "Владимир 1\n",
      "Владимир 1\n",
      "Владимир 1\n",
      "Владимир 1\n",
      "Владимир 1\n",
      "Владимир 1\n",
      "Владимир 2\n",
      "Владимир 2\n",
      "Владимир 2\n",
      "Владимир 2\n",
      "Владимир 2\n",
      "Владимир 2\n",
      "Владимир 2\n",
      "Владимир 3\n",
      "Владимир 3\n"
     ]
    }
   ],
   "source": [
    "for i in range(15):\n",
    "    ds_vladimir.check_if_it_is_time_for_upgrade()"
   ]
  },
  {
   "cell_type": "code",
   "execution_count": null,
   "id": "d08c5bd0-8976-4cf7-ac2b-5e7baf8fe217",
   "metadata": {},
   "outputs": [],
   "source": []
  }
 ],
 "metadata": {
  "kernelspec": {
   "display_name": "Python 3 (ipykernel)",
   "language": "python",
   "name": "python3"
  },
  "language_info": {
   "codemirror_mode": {
    "name": "ipython",
    "version": 3
   },
   "file_extension": ".py",
   "mimetype": "text/x-python",
   "name": "python",
   "nbconvert_exporter": "python",
   "pygments_lexer": "ipython3",
   "version": "3.11.9"
  }
 },
 "nbformat": 4,
 "nbformat_minor": 5
}
