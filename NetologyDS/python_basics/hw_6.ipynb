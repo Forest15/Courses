{
 "cells": [
  {
   "cell_type": "markdown",
   "id": "98d2fa5e-0586-47c3-92f8-35d3d6d0f368",
   "metadata": {},
   "source": [
    "# Домашнее задание №6\n",
    "\n",
    "(выполнил Черевко В.И.)"
   ]
  },
  {
   "cell_type": "markdown",
   "id": "c8699805-537f-4ccc-80d7-c7136080fc60",
   "metadata": {},
   "source": [
    "## Задание 1"
   ]
  },
  {
   "cell_type": "code",
   "execution_count": 7,
   "id": "6620ebd3-6fe7-4486-843e-d53825668d59",
   "metadata": {},
   "outputs": [
    {
     "name": "stdout",
     "output_type": "stream",
     "text": [
      "2002-10-02 00:00:00 Moscow Times\n",
      "2013-10-11 00:00:00 Guardian\n",
      "1977-08-18 00:00:00 Daily News\n"
     ]
    }
   ],
   "source": [
    "from datetime import datetime\n",
    "\n",
    "moscow_times_dt = 'Wednesday, October 2, 2002'\n",
    "guardian_dt = 'Friday, 11.10.13'\n",
    "daily_news_dt = 'Thursday, 18 August 1977'\n",
    "\n",
    "print(datetime.strptime(moscow_times_dt, '%A, %B %d, %Y'), 'Moscow Times')\n",
    "print(datetime.strptime(guardian_dt, '%A, %d.%m.%y'), 'Guardian')\n",
    "print(datetime.strptime(daily_news_dt, '%A, %d %B %Y'), 'Daily News')"
   ]
  },
  {
   "cell_type": "markdown",
   "id": "62f0c8af-dff5-42fb-b618-af8cfa69d660",
   "metadata": {},
   "source": [
    "## Задание 2"
   ]
  },
  {
   "cell_type": "code",
   "execution_count": 26,
   "id": "0357fb86-5115-4950-8437-b4f7e5f7459e",
   "metadata": {},
   "outputs": [
    {
     "name": "stdout",
     "output_type": "stream",
     "text": [
      "True\n",
      "False\n",
      "False\n",
      "True\n"
     ]
    }
   ],
   "source": [
    "from datetime import datetime\n",
    "\n",
    "stream = ['2018-04-02', '2018-02-29', '2018-19-02', '1988-03-11']\n",
    "\n",
    "def check_dt(date_item):\n",
    "    try:\n",
    "        datetime.strptime(date_item, '%Y-%m-%d')\n",
    "        return True\n",
    "    except:\n",
    "        return False\n",
    "\n",
    "\n",
    "for item in stream:\n",
    "    print(check_dt(item))"
   ]
  },
  {
   "cell_type": "markdown",
   "id": "031e5dba-a103-4733-9651-691d52074dda",
   "metadata": {},
   "source": [
    "## Задание 3"
   ]
  },
  {
   "cell_type": "code",
   "execution_count": 54,
   "id": "2ce2d61a-964b-4827-8112-8a59e7819828",
   "metadata": {},
   "outputs": [
    {
     "name": "stdout",
     "output_type": "stream",
     "text": [
      "['2025-06-09', '2025-06-10', '2025-06-11']\n"
     ]
    }
   ],
   "source": [
    "# Исходил из соображений, что дату конца в список не включаем\n",
    "\n",
    "from datetime import datetime\n",
    "from datetime import timedelta\n",
    "\n",
    "start_date = '2025-06-09'\n",
    "end_date = '2025-06-12'\n",
    "\n",
    "def date_range(start_dt, end_dt):\n",
    "    res = []\n",
    "    try:\n",
    "        start_dt = datetime.strptime(start_dt, '%Y-%m-%d')\n",
    "        end_dt = datetime.strptime(end_dt, '%Y-%m-%d')\n",
    "        if start_dt <= end_dt:\n",
    "            return [(start_dt + timedelta(days=x)).strftime('%Y-%m-%d') for x in range((end_dt - start_dt).days)]\n",
    "        else:\n",
    "            return res\n",
    "    except:\n",
    "        return res\n",
    "\n",
    "print(date_range(start_date, end_date))"
   ]
  }
 ],
 "metadata": {
  "kernelspec": {
   "display_name": "Python 3 (ipykernel)",
   "language": "python",
   "name": "python3"
  },
  "language_info": {
   "codemirror_mode": {
    "name": "ipython",
    "version": 3
   },
   "file_extension": ".py",
   "mimetype": "text/x-python",
   "name": "python",
   "nbconvert_exporter": "python",
   "pygments_lexer": "ipython3",
   "version": "3.11.9"
  }
 },
 "nbformat": 4,
 "nbformat_minor": 5
}
