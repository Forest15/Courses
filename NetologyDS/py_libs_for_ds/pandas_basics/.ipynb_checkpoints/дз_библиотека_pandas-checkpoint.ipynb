{
 "cells": [
  {
   "cell_type": "markdown",
   "id": "ee37d5a2-cb63-4777-a9ad-eb5dce32dfc3",
   "metadata": {},
   "source": [
    "# Домашнее задание по теме \"Библиотека pandas\"\n",
    "\n",
    "(Выполнил: Черевко Владимир)"
   ]
  },
  {
   "cell_type": "markdown",
   "id": "a66d2325-5e5c-4a24-9995-3bde65154782",
   "metadata": {},
   "source": [
    "## Задание 1"
   ]
  },
  {
   "cell_type": "code",
   "execution_count": 1,
   "id": "63d46f4f-d8df-4c01-b109-10e0319fdc14",
   "metadata": {},
   "outputs": [],
   "source": [
    "import pandas as pd"
   ]
  },
  {
   "cell_type": "code",
   "execution_count": 3,
   "id": "9cb6b7ec-68a3-4576-b808-440b4986f410",
   "metadata": {},
   "outputs": [
    {
     "data": {
      "text/html": [
       "<div>\n",
       "<style scoped>\n",
       "    .dataframe tbody tr th:only-of-type {\n",
       "        vertical-align: middle;\n",
       "    }\n",
       "\n",
       "    .dataframe tbody tr th {\n",
       "        vertical-align: top;\n",
       "    }\n",
       "\n",
       "    .dataframe thead th {\n",
       "        text-align: right;\n",
       "    }\n",
       "</style>\n",
       "<table border=\"1\" class=\"dataframe\">\n",
       "  <thead>\n",
       "    <tr style=\"text-align: right;\">\n",
       "      <th></th>\n",
       "      <th>movieId</th>\n",
       "      <th>title</th>\n",
       "      <th>genres</th>\n",
       "    </tr>\n",
       "  </thead>\n",
       "  <tbody>\n",
       "    <tr>\n",
       "      <th>0</th>\n",
       "      <td>1</td>\n",
       "      <td>Toy Story (1995)</td>\n",
       "      <td>Adventure|Animation|Children|Comedy|Fantasy</td>\n",
       "    </tr>\n",
       "    <tr>\n",
       "      <th>1</th>\n",
       "      <td>2</td>\n",
       "      <td>Jumanji (1995)</td>\n",
       "      <td>Adventure|Children|Fantasy</td>\n",
       "    </tr>\n",
       "    <tr>\n",
       "      <th>2</th>\n",
       "      <td>3</td>\n",
       "      <td>Grumpier Old Men (1995)</td>\n",
       "      <td>Comedy|Romance</td>\n",
       "    </tr>\n",
       "    <tr>\n",
       "      <th>3</th>\n",
       "      <td>4</td>\n",
       "      <td>Waiting to Exhale (1995)</td>\n",
       "      <td>Comedy|Drama|Romance</td>\n",
       "    </tr>\n",
       "    <tr>\n",
       "      <th>4</th>\n",
       "      <td>5</td>\n",
       "      <td>Father of the Bride Part II (1995)</td>\n",
       "      <td>Comedy</td>\n",
       "    </tr>\n",
       "  </tbody>\n",
       "</table>\n",
       "</div>"
      ],
      "text/plain": [
       "   movieId                               title  \\\n",
       "0        1                    Toy Story (1995)   \n",
       "1        2                      Jumanji (1995)   \n",
       "2        3             Grumpier Old Men (1995)   \n",
       "3        4            Waiting to Exhale (1995)   \n",
       "4        5  Father of the Bride Part II (1995)   \n",
       "\n",
       "                                        genres  \n",
       "0  Adventure|Animation|Children|Comedy|Fantasy  \n",
       "1                   Adventure|Children|Fantasy  \n",
       "2                               Comedy|Romance  \n",
       "3                         Comedy|Drama|Romance  \n",
       "4                                       Comedy  "
      ]
     },
     "execution_count": 3,
     "metadata": {},
     "output_type": "execute_result"
    }
   ],
   "source": [
    "movies_df = pd.read_csv('movies.csv')\n",
    "movies_df.head()"
   ]
  },
  {
   "cell_type": "code",
   "execution_count": 4,
   "id": "5f559129-0170-4c3a-83d2-cdf8ac5e5d8f",
   "metadata": {},
   "outputs": [
    {
     "data": {
      "text/html": [
       "<div>\n",
       "<style scoped>\n",
       "    .dataframe tbody tr th:only-of-type {\n",
       "        vertical-align: middle;\n",
       "    }\n",
       "\n",
       "    .dataframe tbody tr th {\n",
       "        vertical-align: top;\n",
       "    }\n",
       "\n",
       "    .dataframe thead th {\n",
       "        text-align: right;\n",
       "    }\n",
       "</style>\n",
       "<table border=\"1\" class=\"dataframe\">\n",
       "  <thead>\n",
       "    <tr style=\"text-align: right;\">\n",
       "      <th></th>\n",
       "      <th>userId</th>\n",
       "      <th>movieId</th>\n",
       "      <th>rating</th>\n",
       "      <th>timestamp</th>\n",
       "    </tr>\n",
       "  </thead>\n",
       "  <tbody>\n",
       "    <tr>\n",
       "      <th>0</th>\n",
       "      <td>1</td>\n",
       "      <td>1</td>\n",
       "      <td>4.0</td>\n",
       "      <td>964982703</td>\n",
       "    </tr>\n",
       "    <tr>\n",
       "      <th>1</th>\n",
       "      <td>1</td>\n",
       "      <td>3</td>\n",
       "      <td>4.0</td>\n",
       "      <td>964981247</td>\n",
       "    </tr>\n",
       "    <tr>\n",
       "      <th>2</th>\n",
       "      <td>1</td>\n",
       "      <td>6</td>\n",
       "      <td>4.0</td>\n",
       "      <td>964982224</td>\n",
       "    </tr>\n",
       "    <tr>\n",
       "      <th>3</th>\n",
       "      <td>1</td>\n",
       "      <td>47</td>\n",
       "      <td>5.0</td>\n",
       "      <td>964983815</td>\n",
       "    </tr>\n",
       "    <tr>\n",
       "      <th>4</th>\n",
       "      <td>1</td>\n",
       "      <td>50</td>\n",
       "      <td>5.0</td>\n",
       "      <td>964982931</td>\n",
       "    </tr>\n",
       "  </tbody>\n",
       "</table>\n",
       "</div>"
      ],
      "text/plain": [
       "   userId  movieId  rating  timestamp\n",
       "0       1        1     4.0  964982703\n",
       "1       1        3     4.0  964981247\n",
       "2       1        6     4.0  964982224\n",
       "3       1       47     5.0  964983815\n",
       "4       1       50     5.0  964982931"
      ]
     },
     "execution_count": 4,
     "metadata": {},
     "output_type": "execute_result"
    }
   ],
   "source": [
    "ratings_df = pd.read_csv('ratings.csv')\n",
    "ratings_df.head()"
   ]
  },
  {
   "cell_type": "code",
   "execution_count": 5,
   "id": "7bec172a-e76a-4c4d-aadc-84d44ce50093",
   "metadata": {},
   "outputs": [
    {
     "name": "stdout",
     "output_type": "stream",
     "text": [
      "<class 'pandas.core.frame.DataFrame'>\n",
      "RangeIndex: 9742 entries, 0 to 9741\n",
      "Data columns (total 3 columns):\n",
      " #   Column   Non-Null Count  Dtype \n",
      "---  ------   --------------  ----- \n",
      " 0   movieId  9742 non-null   int64 \n",
      " 1   title    9742 non-null   object\n",
      " 2   genres   9742 non-null   object\n",
      "dtypes: int64(1), object(2)\n",
      "memory usage: 228.5+ KB\n"
     ]
    }
   ],
   "source": [
    "movies_df.info()"
   ]
  },
  {
   "cell_type": "code",
   "execution_count": 6,
   "id": "c1e86609-e3d8-47a7-9148-22bfa8de6c29",
   "metadata": {},
   "outputs": [
    {
     "name": "stdout",
     "output_type": "stream",
     "text": [
      "<class 'pandas.core.frame.DataFrame'>\n",
      "RangeIndex: 100836 entries, 0 to 100835\n",
      "Data columns (total 4 columns):\n",
      " #   Column     Non-Null Count   Dtype  \n",
      "---  ------     --------------   -----  \n",
      " 0   userId     100836 non-null  int64  \n",
      " 1   movieId    100836 non-null  int64  \n",
      " 2   rating     100836 non-null  float64\n",
      " 3   timestamp  100836 non-null  int64  \n",
      "dtypes: float64(1), int64(3)\n",
      "memory usage: 3.1 MB\n"
     ]
    }
   ],
   "source": [
    "ratings_df.info()"
   ]
  },
  {
   "cell_type": "markdown",
   "id": "b24e4758-d4f8-4841-827c-0d06e0405af1",
   "metadata": {},
   "source": [
    "В датасетах нет пропусков данных (все столбцы non-null). Посмотрим максимально возможный рейтинг."
   ]
  },
  {
   "cell_type": "code",
   "execution_count": 8,
   "id": "4acbfc4f-779b-451f-a6bf-dd53c7828314",
   "metadata": {},
   "outputs": [
    {
     "data": {
      "text/plain": [
       "5.0"
      ]
     },
     "execution_count": 8,
     "metadata": {},
     "output_type": "execute_result"
    }
   ],
   "source": [
    "ratings_df.rating.unique().max()"
   ]
  },
  {
   "cell_type": "code",
   "execution_count": 16,
   "id": "6b97163f-228a-45b7-b758-a57a305ce828",
   "metadata": {},
   "outputs": [
    {
     "data": {
      "text/html": [
       "<div>\n",
       "<style scoped>\n",
       "    .dataframe tbody tr th:only-of-type {\n",
       "        vertical-align: middle;\n",
       "    }\n",
       "\n",
       "    .dataframe tbody tr th {\n",
       "        vertical-align: top;\n",
       "    }\n",
       "\n",
       "    .dataframe thead th {\n",
       "        text-align: right;\n",
       "    }\n",
       "</style>\n",
       "<table border=\"1\" class=\"dataframe\">\n",
       "  <thead>\n",
       "    <tr style=\"text-align: right;\">\n",
       "      <th></th>\n",
       "      <th>movieId</th>\n",
       "      <th>userId</th>\n",
       "      <th>rating</th>\n",
       "      <th>timestamp</th>\n",
       "      <th>title</th>\n",
       "      <th>genres</th>\n",
       "    </tr>\n",
       "  </thead>\n",
       "  <tbody>\n",
       "    <tr>\n",
       "      <th>0</th>\n",
       "      <td>318</td>\n",
       "      <td>153</td>\n",
       "      <td>153</td>\n",
       "      <td>153</td>\n",
       "      <td>Shawshank Redemption, The (1994)</td>\n",
       "      <td>Crime|Drama</td>\n",
       "    </tr>\n",
       "  </tbody>\n",
       "</table>\n",
       "</div>"
      ],
      "text/plain": [
       "   movieId  userId  rating  timestamp                             title  \\\n",
       "0      318     153     153        153  Shawshank Redemption, The (1994)   \n",
       "\n",
       "        genres  \n",
       "0  Crime|Drama  "
      ]
     },
     "execution_count": 16,
     "metadata": {},
     "output_type": "execute_result"
    }
   ],
   "source": [
    "ratings_df[ratings_df[\"rating\"] == 5.].groupby(\"movieId\").count().sort_values(by=\"rating\", ascending=False).head(1).merge(movies_df, on='movieId', how='left')"
   ]
  },
  {
   "cell_type": "markdown",
   "id": "4184609a-2599-4ec3-82a8-cee283a0fcc0",
   "metadata": {},
   "source": [
    "### Ответ: больше всего оценок было выставлено фильму: \"Shawshank Redemption, The (1994)\""
   ]
  },
  {
   "cell_type": "markdown",
   "id": "55a8fc85-1344-499a-abd4-d15a8a3d30a5",
   "metadata": {},
   "source": [
    "## Задание 2"
   ]
  },
  {
   "cell_type": "code",
   "execution_count": 17,
   "id": "57453c7f-7b41-4db7-a551-64aca1bd7600",
   "metadata": {},
   "outputs": [
    {
     "data": {
      "text/html": [
       "<div>\n",
       "<style scoped>\n",
       "    .dataframe tbody tr th:only-of-type {\n",
       "        vertical-align: middle;\n",
       "    }\n",
       "\n",
       "    .dataframe tbody tr th {\n",
       "        vertical-align: top;\n",
       "    }\n",
       "\n",
       "    .dataframe thead th {\n",
       "        text-align: right;\n",
       "    }\n",
       "</style>\n",
       "<table border=\"1\" class=\"dataframe\">\n",
       "  <thead>\n",
       "    <tr style=\"text-align: right;\">\n",
       "      <th></th>\n",
       "      <th>country</th>\n",
       "      <th>year</th>\n",
       "      <th>quantity</th>\n",
       "      <th>category</th>\n",
       "    </tr>\n",
       "  </thead>\n",
       "  <tbody>\n",
       "    <tr>\n",
       "      <th>0</th>\n",
       "      <td>Austria</td>\n",
       "      <td>1996</td>\n",
       "      <td>5.0</td>\n",
       "      <td>1</td>\n",
       "    </tr>\n",
       "    <tr>\n",
       "      <th>1</th>\n",
       "      <td>Austria</td>\n",
       "      <td>1995</td>\n",
       "      <td>17.0</td>\n",
       "      <td>1</td>\n",
       "    </tr>\n",
       "    <tr>\n",
       "      <th>2</th>\n",
       "      <td>Belgium</td>\n",
       "      <td>2014</td>\n",
       "      <td>0.0</td>\n",
       "      <td>1</td>\n",
       "    </tr>\n",
       "    <tr>\n",
       "      <th>3</th>\n",
       "      <td>Belgium</td>\n",
       "      <td>2013</td>\n",
       "      <td>0.0</td>\n",
       "      <td>1</td>\n",
       "    </tr>\n",
       "    <tr>\n",
       "      <th>4</th>\n",
       "      <td>Belgium</td>\n",
       "      <td>2012</td>\n",
       "      <td>35.0</td>\n",
       "      <td>1</td>\n",
       "    </tr>\n",
       "  </tbody>\n",
       "</table>\n",
       "</div>"
      ],
      "text/plain": [
       "   country  year  quantity  category\n",
       "0  Austria  1996       5.0         1\n",
       "1  Austria  1995      17.0         1\n",
       "2  Belgium  2014       0.0         1\n",
       "3  Belgium  2013       0.0         1\n",
       "4  Belgium  2012      35.0         1"
      ]
     },
     "execution_count": 17,
     "metadata": {},
     "output_type": "execute_result"
    }
   ],
   "source": [
    "power_df = pd.read_csv('power.csv')\n",
    "power_df.head()"
   ]
  },
  {
   "cell_type": "code",
   "execution_count": 19,
   "id": "53d5e409-cc20-4fe6-96e9-d47dd258fe31",
   "metadata": {},
   "outputs": [
    {
     "name": "stdout",
     "output_type": "stream",
     "text": [
      "<class 'pandas.core.frame.DataFrame'>\n",
      "RangeIndex: 1189482 entries, 0 to 1189481\n",
      "Data columns (total 4 columns):\n",
      " #   Column    Non-Null Count    Dtype  \n",
      "---  ------    --------------    -----  \n",
      " 0   country   1189482 non-null  object \n",
      " 1   year      1189482 non-null  int64  \n",
      " 2   quantity  1189482 non-null  float64\n",
      " 3   category  1189482 non-null  int64  \n",
      "dtypes: float64(1), int64(2), object(1)\n",
      "memory usage: 36.3+ MB\n"
     ]
    }
   ],
   "source": [
    "power_df.info()"
   ]
  },
  {
   "cell_type": "markdown",
   "id": "b2561c73-7ecc-4a4c-bb96-657116ee4da2",
   "metadata": {},
   "source": [
    "В данных нет пропусков. Посмотрим, как может выглядеть название искомых государств, по окончанию на \"ia\". Перед этим, максимально сократив выборку, чтобы было проще искать визуально."
   ]
  },
  {
   "cell_type": "code",
   "execution_count": 32,
   "id": "5b2bbceb-ae10-4cd2-b9da-a496f167e9cb",
   "metadata": {},
   "outputs": [
    {
     "data": {
      "text/plain": [
       "array(['Colombia', 'Australia', 'Austria', 'Bolivia (Plur. State of)',\n",
       "       'Bulgaria', 'Croatia', 'Czechia', 'Estonia', 'French Guiana',\n",
       "       'Indonesia', 'Liberia', 'Lithuania', 'Mauritania', 'New Caledonia',\n",
       "       'Romania', 'Russian Federation', 'Slovakia', 'Slovenia',\n",
       "       'T.F.Yug.Rep. Macedonia', 'Georgia', 'Latvia', 'French Polynesia',\n",
       "       'Malaysia', 'Namibia', 'Serbia', 'Zambia',\n",
       "       'Bosnia and Herzegovina', 'India', 'Mongolia', 'Other Asia',\n",
       "       'Albania', 'Cambodia', 'Nigeria', 'Tunisia', 'Saudi Arabia',\n",
       "       'Algeria', 'Armenia', 'Equatorial Guinea', 'Ethiopia', 'Gambia',\n",
       "       'Micronesia (Fed. States of)', 'Northern Mariana Islands',\n",
       "       'Somalia', 'St. Lucia', 'Syrian Arab Republic',\n",
       "       'United Rep. of Tanzania'], dtype=object)"
      ]
     },
     "execution_count": 32,
     "metadata": {},
     "output_type": "execute_result"
    }
   ],
   "source": [
    "power_df[(power_df[\"year\"] >= 2005) & (power_df[\"year\"] <= 2010) & \n",
    "((power_df[\"category\"] == 4) | (power_df[\"category\"] == 12) | (power_df[\"category\"] == 21)) & \n",
    "(power_df[\"quantity\"] >= 0) &\n",
    "(power_df[\"country\"].str.contains('ia', case=False))][\"country\"].unique()"
   ]
  },
  {
   "cell_type": "markdown",
   "id": "6e43f843-3eac-4d75-b8d6-020e110400cb",
   "metadata": {},
   "source": [
    "Судя по всему в данном интервале они называются Lithuania и Latvia, а Эстония называется Estonia. Добавим их в фильтры."
   ]
  },
  {
   "cell_type": "code",
   "execution_count": 36,
   "id": "81b3c3ae-ed9c-4e31-904e-2dd4b58fb79c",
   "metadata": {},
   "outputs": [
    {
     "data": {
      "text/plain": [
       "240580.0"
      ]
     },
     "execution_count": 36,
     "metadata": {},
     "output_type": "execute_result"
    }
   ],
   "source": [
    "power_df[(power_df[\"year\"] >= 2005) & (power_df[\"year\"] <= 2010) & \n",
    "((power_df[\"category\"] == 4) | (power_df[\"category\"] == 12) | (power_df[\"category\"] == 21)) & \n",
    "(power_df[\"quantity\"] >= 0) &\n",
    "((power_df[\"country\"] == \"Lithuania\") | (power_df[\"country\"] == \"Latvia\") | (power_df[\"country\"] == \"Estonia\"))][\"quantity\"].sum()"
   ]
  },
  {
   "cell_type": "markdown",
   "id": "852fea5b-7cce-4d8c-85a0-b73a36743ee9",
   "metadata": {},
   "source": [
    "### Ответ: суммарное потребление энергии странами Прибалтики = 240580."
   ]
  },
  {
   "cell_type": "markdown",
   "id": "43b2b04f-6aaf-4d3e-8ab5-877916ecd705",
   "metadata": {},
   "source": [
    "## Задание 3\n",
    "\n",
    "Выведем значения таблицы Брадиса для синусов и косинусов с web-страницы, для первых 10 углов. Заголовок сделаем как нулевую строку таблицы, а индекс привяжем к колонке с углами."
   ]
  },
  {
   "cell_type": "code",
   "execution_count": 9,
   "id": "2ab153cf-e4be-4401-b0d5-4d195f41fe8b",
   "metadata": {},
   "outputs": [
    {
     "data": {
      "text/html": [
       "<div>\n",
       "<style scoped>\n",
       "    .dataframe tbody tr th:only-of-type {\n",
       "        vertical-align: middle;\n",
       "    }\n",
       "\n",
       "    .dataframe tbody tr th {\n",
       "        vertical-align: top;\n",
       "    }\n",
       "\n",
       "    .dataframe thead th {\n",
       "        text-align: right;\n",
       "    }\n",
       "</style>\n",
       "<table border=\"1\" class=\"dataframe\">\n",
       "  <thead>\n",
       "    <tr style=\"text-align: right;\">\n",
       "      <th></th>\n",
       "      <th>0'</th>\n",
       "      <th>6'</th>\n",
       "      <th>12'</th>\n",
       "      <th>18'</th>\n",
       "      <th>24'</th>\n",
       "      <th>30'</th>\n",
       "      <th>36'</th>\n",
       "      <th>42'</th>\n",
       "      <th>48'</th>\n",
       "      <th>54'</th>\n",
       "      <th>60'</th>\n",
       "      <th>cos</th>\n",
       "      <th>1'</th>\n",
       "      <th>2'</th>\n",
       "      <th>3'</th>\n",
       "    </tr>\n",
       "    <tr>\n",
       "      <th>sin</th>\n",
       "      <th></th>\n",
       "      <th></th>\n",
       "      <th></th>\n",
       "      <th></th>\n",
       "      <th></th>\n",
       "      <th></th>\n",
       "      <th></th>\n",
       "      <th></th>\n",
       "      <th></th>\n",
       "      <th></th>\n",
       "      <th></th>\n",
       "      <th></th>\n",
       "      <th></th>\n",
       "      <th></th>\n",
       "      <th></th>\n",
       "    </tr>\n",
       "  </thead>\n",
       "  <tbody>\n",
       "    <tr>\n",
       "      <th>NaN</th>\n",
       "      <td>NaN</td>\n",
       "      <td>NaN</td>\n",
       "      <td>NaN</td>\n",
       "      <td>NaN</td>\n",
       "      <td>NaN</td>\n",
       "      <td>NaN</td>\n",
       "      <td>NaN</td>\n",
       "      <td>NaN</td>\n",
       "      <td>NaN</td>\n",
       "      <td>NaN</td>\n",
       "      <td>0.0000</td>\n",
       "      <td>90°</td>\n",
       "      <td>NaN</td>\n",
       "      <td>NaN</td>\n",
       "      <td>NaN</td>\n",
       "    </tr>\n",
       "    <tr>\n",
       "      <th>0°</th>\n",
       "      <td>0.0000</td>\n",
       "      <td>0017</td>\n",
       "      <td>0035</td>\n",
       "      <td>0052</td>\n",
       "      <td>0070</td>\n",
       "      <td>0087</td>\n",
       "      <td>0105</td>\n",
       "      <td>0122</td>\n",
       "      <td>0140</td>\n",
       "      <td>0157</td>\n",
       "      <td>0175</td>\n",
       "      <td>89°</td>\n",
       "      <td>3</td>\n",
       "      <td>6</td>\n",
       "      <td>9</td>\n",
       "    </tr>\n",
       "    <tr>\n",
       "      <th>1°</th>\n",
       "      <td>0175</td>\n",
       "      <td>0192</td>\n",
       "      <td>0209</td>\n",
       "      <td>0227</td>\n",
       "      <td>0244</td>\n",
       "      <td>0262</td>\n",
       "      <td>0279</td>\n",
       "      <td>0297</td>\n",
       "      <td>0314</td>\n",
       "      <td>0332</td>\n",
       "      <td>0349</td>\n",
       "      <td>88°</td>\n",
       "      <td>3</td>\n",
       "      <td>6</td>\n",
       "      <td>9</td>\n",
       "    </tr>\n",
       "    <tr>\n",
       "      <th>2°</th>\n",
       "      <td>0349</td>\n",
       "      <td>0366</td>\n",
       "      <td>0384</td>\n",
       "      <td>0401</td>\n",
       "      <td>0419</td>\n",
       "      <td>0436</td>\n",
       "      <td>0454</td>\n",
       "      <td>0471</td>\n",
       "      <td>0488</td>\n",
       "      <td>0506</td>\n",
       "      <td>0523</td>\n",
       "      <td>87°</td>\n",
       "      <td>3</td>\n",
       "      <td>6</td>\n",
       "      <td>9</td>\n",
       "    </tr>\n",
       "    <tr>\n",
       "      <th>3°</th>\n",
       "      <td>0523</td>\n",
       "      <td>0541</td>\n",
       "      <td>0558</td>\n",
       "      <td>0576</td>\n",
       "      <td>0593</td>\n",
       "      <td>0610</td>\n",
       "      <td>0628</td>\n",
       "      <td>0645</td>\n",
       "      <td>0663</td>\n",
       "      <td>0680</td>\n",
       "      <td>0698</td>\n",
       "      <td>86°</td>\n",
       "      <td>3</td>\n",
       "      <td>6</td>\n",
       "      <td>9</td>\n",
       "    </tr>\n",
       "    <tr>\n",
       "      <th>4°</th>\n",
       "      <td>0698</td>\n",
       "      <td>0715</td>\n",
       "      <td>0732</td>\n",
       "      <td>0750</td>\n",
       "      <td>0767</td>\n",
       "      <td>0785</td>\n",
       "      <td>0802</td>\n",
       "      <td>0819</td>\n",
       "      <td>0837</td>\n",
       "      <td>0854</td>\n",
       "      <td>0.0872</td>\n",
       "      <td>85°</td>\n",
       "      <td>3</td>\n",
       "      <td>6</td>\n",
       "      <td>9</td>\n",
       "    </tr>\n",
       "    <tr>\n",
       "      <th>NaN</th>\n",
       "      <td>NaN</td>\n",
       "      <td>NaN</td>\n",
       "      <td>NaN</td>\n",
       "      <td>NaN</td>\n",
       "      <td>NaN</td>\n",
       "      <td>NaN</td>\n",
       "      <td>NaN</td>\n",
       "      <td>NaN</td>\n",
       "      <td>NaN</td>\n",
       "      <td>NaN</td>\n",
       "      <td>NaN</td>\n",
       "      <td>NaN</td>\n",
       "      <td>NaN</td>\n",
       "      <td>NaN</td>\n",
       "      <td>NaN</td>\n",
       "    </tr>\n",
       "    <tr>\n",
       "      <th>5°</th>\n",
       "      <td>0.0872</td>\n",
       "      <td>0889</td>\n",
       "      <td>0906</td>\n",
       "      <td>0924</td>\n",
       "      <td>0941</td>\n",
       "      <td>0958</td>\n",
       "      <td>0976</td>\n",
       "      <td>0993</td>\n",
       "      <td>1011</td>\n",
       "      <td>1028</td>\n",
       "      <td>1045</td>\n",
       "      <td>84°</td>\n",
       "      <td>3</td>\n",
       "      <td>6</td>\n",
       "      <td>9</td>\n",
       "    </tr>\n",
       "    <tr>\n",
       "      <th>6°</th>\n",
       "      <td>1045</td>\n",
       "      <td>1063</td>\n",
       "      <td>1080</td>\n",
       "      <td>1097</td>\n",
       "      <td>1115</td>\n",
       "      <td>1132</td>\n",
       "      <td>1149</td>\n",
       "      <td>1167</td>\n",
       "      <td>1184</td>\n",
       "      <td>1201</td>\n",
       "      <td>1219</td>\n",
       "      <td>83°</td>\n",
       "      <td>3</td>\n",
       "      <td>6</td>\n",
       "      <td>9</td>\n",
       "    </tr>\n",
       "    <tr>\n",
       "      <th>7°</th>\n",
       "      <td>1219</td>\n",
       "      <td>1236</td>\n",
       "      <td>1253</td>\n",
       "      <td>1271</td>\n",
       "      <td>1288</td>\n",
       "      <td>1305</td>\n",
       "      <td>1323</td>\n",
       "      <td>1340</td>\n",
       "      <td>1357</td>\n",
       "      <td>1374</td>\n",
       "      <td>1392</td>\n",
       "      <td>82°</td>\n",
       "      <td>3</td>\n",
       "      <td>6</td>\n",
       "      <td>9</td>\n",
       "    </tr>\n",
       "    <tr>\n",
       "      <th>8°</th>\n",
       "      <td>1392</td>\n",
       "      <td>1409</td>\n",
       "      <td>1426</td>\n",
       "      <td>1444</td>\n",
       "      <td>1461</td>\n",
       "      <td>1478</td>\n",
       "      <td>1495</td>\n",
       "      <td>1513</td>\n",
       "      <td>1530</td>\n",
       "      <td>1547</td>\n",
       "      <td>1564</td>\n",
       "      <td>81°</td>\n",
       "      <td>3</td>\n",
       "      <td>6</td>\n",
       "      <td>9</td>\n",
       "    </tr>\n",
       "    <tr>\n",
       "      <th>9°</th>\n",
       "      <td>1564</td>\n",
       "      <td>1582</td>\n",
       "      <td>1599</td>\n",
       "      <td>1616</td>\n",
       "      <td>1633</td>\n",
       "      <td>1650</td>\n",
       "      <td>1668</td>\n",
       "      <td>1685</td>\n",
       "      <td>1702</td>\n",
       "      <td>1719</td>\n",
       "      <td>0.1736</td>\n",
       "      <td>80°</td>\n",
       "      <td>3</td>\n",
       "      <td>6</td>\n",
       "      <td>9</td>\n",
       "    </tr>\n",
       "  </tbody>\n",
       "</table>\n",
       "</div>"
      ],
      "text/plain": [
       "         0'    6'   12'   18'   24'   30'   36'   42'   48'   54'     60'  \\\n",
       "sin                                                                         \n",
       "NaN     NaN   NaN   NaN   NaN   NaN   NaN   NaN   NaN   NaN   NaN  0.0000   \n",
       "0°   0.0000  0017  0035  0052  0070  0087  0105  0122  0140  0157    0175   \n",
       "1°     0175  0192  0209  0227  0244  0262  0279  0297  0314  0332    0349   \n",
       "2°     0349  0366  0384  0401  0419  0436  0454  0471  0488  0506    0523   \n",
       "3°     0523  0541  0558  0576  0593  0610  0628  0645  0663  0680    0698   \n",
       "4°     0698  0715  0732  0750  0767  0785  0802  0819  0837  0854  0.0872   \n",
       "NaN     NaN   NaN   NaN   NaN   NaN   NaN   NaN   NaN   NaN   NaN     NaN   \n",
       "5°   0.0872  0889  0906  0924  0941  0958  0976  0993  1011  1028    1045   \n",
       "6°     1045  1063  1080  1097  1115  1132  1149  1167  1184  1201    1219   \n",
       "7°     1219  1236  1253  1271  1288  1305  1323  1340  1357  1374    1392   \n",
       "8°     1392  1409  1426  1444  1461  1478  1495  1513  1530  1547    1564   \n",
       "9°     1564  1582  1599  1616  1633  1650  1668  1685  1702  1719  0.1736   \n",
       "\n",
       "     cos   1'   2'   3'  \n",
       "sin                      \n",
       "NaN  90°  NaN  NaN  NaN  \n",
       "0°   89°    3    6    9  \n",
       "1°   88°    3    6    9  \n",
       "2°   87°    3    6    9  \n",
       "3°   86°    3    6    9  \n",
       "4°   85°    3    6    9  \n",
       "NaN  NaN  NaN  NaN  NaN  \n",
       "5°   84°    3    6    9  \n",
       "6°   83°    3    6    9  \n",
       "7°   82°    3    6    9  \n",
       "8°   81°    3    6    9  \n",
       "9°   80°    3    6    9  "
      ]
     },
     "execution_count": 9,
     "metadata": {},
     "output_type": "execute_result"
    }
   ],
   "source": [
    "table_ds = pd.read_html(\"https://ru.onlinemschool.com/math/formula/bradis_table/\", header = 0, index_col = 0)[0]\n",
    "table_ds.head(12)"
   ]
  }
 ],
 "metadata": {
  "kernelspec": {
   "display_name": "Python 3 (ipykernel)",
   "language": "python",
   "name": "python3"
  },
  "language_info": {
   "codemirror_mode": {
    "name": "ipython",
    "version": 3
   },
   "file_extension": ".py",
   "mimetype": "text/x-python",
   "name": "python",
   "nbconvert_exporter": "python",
   "pygments_lexer": "ipython3",
   "version": "3.11.9"
  }
 },
 "nbformat": 4,
 "nbformat_minor": 5
}
